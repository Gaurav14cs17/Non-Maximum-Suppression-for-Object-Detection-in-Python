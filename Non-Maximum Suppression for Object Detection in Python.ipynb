{
 "cells": [
  {
   "cell_type": "code",
   "execution_count": 1,
   "metadata": {},
   "outputs": [],
   "source": [
    "import numpy as np"
   ]
  },
  {
   "cell_type": "code",
   "execution_count": 2,
   "metadata": {},
   "outputs": [],
   "source": [
    "images = [(\" \", np.array([(12, 84, 140, 212),(24, 84, 152, 212),(36, 84, 164, 212),(12, 96, 140, 224),\n",
    "(24, 96, 152, 224),(24, 108, 152, 236)]))]"
   ]
  },
  {
   "cell_type": "code",
   "execution_count": 3,
   "metadata": {},
   "outputs": [
    {
     "data": {
      "text/plain": [
       "[(' ', array([[ 12,  84, 140, 212],\n",
       "         [ 24,  84, 152, 212],\n",
       "         [ 36,  84, 164, 212],\n",
       "         [ 12,  96, 140, 224],\n",
       "         [ 24,  96, 152, 224],\n",
       "         [ 24, 108, 152, 236]]))]"
      ]
     },
     "execution_count": 3,
     "metadata": {},
     "output_type": "execute_result"
    }
   ],
   "source": [
    "images"
   ]
  },
  {
   "cell_type": "code",
   "execution_count": 4,
   "metadata": {},
   "outputs": [],
   "source": [
    "image = images[0][1]"
   ]
  },
  {
   "cell_type": "code",
   "execution_count": 5,
   "metadata": {},
   "outputs": [
    {
     "data": {
      "text/plain": [
       "array([[ 12,  84, 140, 212],\n",
       "       [ 24,  84, 152, 212],\n",
       "       [ 36,  84, 164, 212],\n",
       "       [ 12,  96, 140, 224],\n",
       "       [ 24,  96, 152, 224],\n",
       "       [ 24, 108, 152, 236]])"
      ]
     },
     "execution_count": 5,
     "metadata": {},
     "output_type": "execute_result"
    }
   ],
   "source": [
    "image"
   ]
  },
  {
   "cell_type": "code",
   "execution_count": 6,
   "metadata": {},
   "outputs": [],
   "source": [
    "boxes =  image"
   ]
  },
  {
   "cell_type": "code",
   "execution_count": 7,
   "metadata": {},
   "outputs": [
    {
     "data": {
      "text/plain": [
       "array([[ 12,  84, 140, 212],\n",
       "       [ 24,  84, 152, 212],\n",
       "       [ 36,  84, 164, 212],\n",
       "       [ 12,  96, 140, 224],\n",
       "       [ 24,  96, 152, 224],\n",
       "       [ 24, 108, 152, 236]])"
      ]
     },
     "execution_count": 7,
     "metadata": {},
     "output_type": "execute_result"
    }
   ],
   "source": [
    "boxes"
   ]
  },
  {
   "cell_type": "code",
   "execution_count": 8,
   "metadata": {},
   "outputs": [],
   "source": [
    "pick = []"
   ]
  },
  {
   "cell_type": "code",
   "execution_count": 9,
   "metadata": {},
   "outputs": [
    {
     "data": {
      "text/plain": [
       "array([12, 24, 36, 12, 24, 24])"
      ]
     },
     "execution_count": 9,
     "metadata": {},
     "output_type": "execute_result"
    }
   ],
   "source": [
    "x1 = boxes[: ,0]\n",
    "x1"
   ]
  },
  {
   "cell_type": "code",
   "execution_count": 10,
   "metadata": {},
   "outputs": [
    {
     "data": {
      "text/plain": [
       "array([ 84,  84,  84,  96,  96, 108])"
      ]
     },
     "execution_count": 10,
     "metadata": {},
     "output_type": "execute_result"
    }
   ],
   "source": [
    "y1 = boxes[:, 1]\n",
    "y1"
   ]
  },
  {
   "cell_type": "code",
   "execution_count": 11,
   "metadata": {},
   "outputs": [
    {
     "name": "stdout",
     "output_type": "stream",
     "text": [
      "[140 152 164 140 152 152] [212 212 212 224 224 236]\n"
     ]
    }
   ],
   "source": [
    "x2 = boxes[:, 2]\n",
    "y2 = boxes[:, 3]\n",
    "\n",
    "print(x2 , y2 )"
   ]
  },
  {
   "cell_type": "code",
   "execution_count": 12,
   "metadata": {},
   "outputs": [
    {
     "data": {
      "text/plain": [
       "array([16641, 16641, 16641, 16641, 16641, 16641])"
      ]
     },
     "execution_count": 12,
     "metadata": {},
     "output_type": "execute_result"
    }
   ],
   "source": [
    "area = (x2 - x1  + 1 )*( y2 - y1 +1 )\n",
    "area"
   ]
  },
  {
   "cell_type": "code",
   "execution_count": 13,
   "metadata": {},
   "outputs": [
    {
     "data": {
      "text/plain": [
       "array([0, 1, 2, 3, 4, 5], dtype=int64)"
      ]
     },
     "execution_count": 13,
     "metadata": {},
     "output_type": "execute_result"
    }
   ],
   "source": [
    "idxs = np.argsort(y2)\n",
    "idxs"
   ]
  },
  {
   "cell_type": "code",
   "execution_count": 14,
   "metadata": {},
   "outputs": [
    {
     "name": "stdout",
     "output_type": "stream",
     "text": [
      "0.738236884802596\n",
      "[0 1 2 3 4 5]\n",
      "0.813953488372093\n",
      "[0 1 2 3 4 5]\n",
      "0.738236884802596\n",
      "[0 1 2 3 4 5]\n",
      "0.8226068144943213\n",
      "[0 1 2 3 4 5]\n",
      "0.9069767441860465\n",
      "[0 1 2 3 4 5]\n"
     ]
    }
   ],
   "source": [
    "while len(idxs) > 0:\n",
    "    last = len(idxs) - 1\n",
    "    i = idxs[last]\n",
    "    pick.append(i)\n",
    "    suppress = [last]\n",
    "    \n",
    "    for pos in range(0,last):\n",
    "        j = idxs[pos]\n",
    "        xx1 = max( x1[i] , x1[j])\n",
    "        yy1 = max( y1[i] , y1[j])\n",
    "        \n",
    "        xx2 = min( x2[i] , x2[j])\n",
    "        yy2 = min( y2[i] , y2[j])\n",
    "        \n",
    "        w = max( 0 , xx2 -  xx1 +1 )\n",
    "        h = max( 0 , yy2 - yy1 +1  )\n",
    "        \n",
    "        overlap = float(w*h)/area[j]\n",
    "        \n",
    "        if overlap > 0.3:\n",
    "            suppress.append(pos)\n",
    "            print(overlap)\n",
    "            print(idxs)\n",
    "            \n",
    "        # delete all indexes from the index list that are in the suppression list\n",
    "    \n",
    "    idxs = np.delete(idxs , suppress)\n",
    "    \n",
    "    \n",
    "    \n",
    "    \n",
    "    \n",
    "    \n",
    "    \n",
    "    \n",
    "        \n",
    "    \n",
    "    "
   ]
  },
  {
   "cell_type": "code",
   "execution_count": 17,
   "metadata": {},
   "outputs": [
    {
     "data": {
      "text/plain": [
       "[5]"
      ]
     },
     "execution_count": 17,
     "metadata": {},
     "output_type": "execute_result"
    }
   ],
   "source": [
    "pick"
   ]
  },
  {
   "cell_type": "code",
   "execution_count": 18,
   "metadata": {},
   "outputs": [
    {
     "data": {
      "text/plain": [
       "array([[ 24, 108, 152, 236]])"
      ]
     },
     "execution_count": 18,
     "metadata": {},
     "output_type": "execute_result"
    }
   ],
   "source": [
    "boxes[pick]"
   ]
  },
  {
   "cell_type": "code",
   "execution_count": null,
   "metadata": {},
   "outputs": [],
   "source": []
  }
 ],
 "metadata": {
  "kernelspec": {
   "display_name": "Python 3",
   "language": "python",
   "name": "python3"
  },
  "language_info": {
   "codemirror_mode": {
    "name": "ipython",
    "version": 3
   },
   "file_extension": ".py",
   "mimetype": "text/x-python",
   "name": "python",
   "nbconvert_exporter": "python",
   "pygments_lexer": "ipython3",
   "version": "3.6.5"
  }
 },
 "nbformat": 4,
 "nbformat_minor": 2
}
